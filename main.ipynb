{
 "cells": [
  {
   "cell_type": "code",
   "execution_count": 3,
   "id": "93dd97c7",
   "metadata": {},
   "outputs": [],
   "source": [
    "api_key = 'lsdIHEK13bEZKcIxpxbTCWsHJ'\n",
    "api_key_secret = 'ETdwsyb6x1yGche0sC4LHWZfLAGe12oOkkYajEeGxq6s5b3uNy'\n",
    "bearer_token = 'AAAAAAAAAAAAAAAAAAAAAExwfgEAAAAAieokOjfgboUvhSTpnWa645%2FNv2Y%3DTC3QAVPVhoglLj8FcgVVowqaETt6NLeShi4pM7K0oQrSc963w9'\n",
    "access_token = '1244046374-MoKuOZpUBqviLnQj1k01PwHTeAOqBDNmhqhO0oT'\n",
    "access_token_key = 'fZ71bzc43oiWPSbrDosBPiiXPjhK2gWXQBoGrKOZMMgZQ'"
   ]
  },
  {
   "cell_type": "code",
   "execution_count": 28,
   "id": "508f0319",
   "metadata": {},
   "outputs": [],
   "source": [
    "import pandas as pd\n",
    "import tweepy\n",
    "from textblob import TextBlob\n",
    "import pickle"
   ]
  },
  {
   "cell_type": "code",
   "execution_count": 5,
   "id": "d14249f9",
   "metadata": {},
   "outputs": [],
   "source": [
    "client = tweepy.Client(bearer_token)"
   ]
  },
  {
   "cell_type": "code",
   "execution_count": 21,
   "id": "16ea5188",
   "metadata": {},
   "outputs": [],
   "source": [
    "bolsonaro = client.search_recent_tweets('Bolsonaro', max_results=100)\n",
    "\n",
    "b_tweets = bolsonaro.data\n",
    "b_polarity = 0\n",
    "b_positive = 0\n",
    "b_neutral = 0\n",
    "b_negative = 0\n",
    "\n",
    "for tweet in b_tweets:\n",
    "    final_text = tweet.text.replace('RT', '')\n",
    "    if final_text.startswith(' @'):\n",
    "        position = final_text.index(':')\n",
    "        final_text = final_text[position+2:]\n",
    "    if final_text.startswith('@'):\n",
    "        position = final_text.index(' ')\n",
    "        final_text = final_text[position+2:]\n",
    "    b_analysis = TextBlob(final_text)\n",
    "    tweet_polarity = b_analysis.polarity\n",
    "    if tweet_polarity > 0:\n",
    "        b_positive += 1\n",
    "    elif tweet_polarity <0:\n",
    "        b_negative += 1\n",
    "    else:\n",
    "        b_neutral += 1\n",
    "    b_polarity += b_analysis.polarity"
   ]
  },
  {
   "cell_type": "code",
   "execution_count": 22,
   "id": "ff6d1c64",
   "metadata": {},
   "outputs": [
    {
     "name": "stdout",
     "output_type": "stream",
     "text": [
      "0.6090909090909091\n",
      "Amount of positive tweets: 4\n",
      "Amount of negative tweets: 0\n",
      "Amount of neutral tweets: 96\n"
     ]
    }
   ],
   "source": [
    "print(b_polarity)\n",
    "print(f'Amount of positive tweets: {b_positive}')\n",
    "print(f'Amount of negative tweets: {b_negative}')\n",
    "print(f'Amount of neutral tweets: {b_neutral}')"
   ]
  },
  {
   "cell_type": "code",
   "execution_count": 29,
   "id": "b5175c18",
   "metadata": {},
   "outputs": [],
   "source": [
    "with open('bolsonaro', 'wb') as f:\n",
    "    pickle.dump(bolsonaro.data, f)"
   ]
  },
  {
   "cell_type": "code",
   "execution_count": 30,
   "id": "60ea8597",
   "metadata": {},
   "outputs": [],
   "source": [
    "lula = client.search_recent_tweets('Lula', max_results=100)\n",
    "\n",
    "l_tweets = lula.data\n",
    "l_polarity = 0\n",
    "l_positive = 0\n",
    "l_neutral = 0\n",
    "l_negative = 0\n",
    "\n",
    "for tweet in l_tweets:\n",
    "    final_text = tweet.text.replace('RT', '')\n",
    "    if final_text.startswith(' @'):\n",
    "        position = final_text.index(':')\n",
    "        final_text = final_text[position+2:]\n",
    "    if final_text.startswith('@'):\n",
    "        position = final_text.index(' ')\n",
    "        final_text = final_text[position+2:]\n",
    "    l_analysis = TextBlob(final_text)\n",
    "    tweet_polarity = l_analysis.polarity\n",
    "    if tweet_polarity > 0:\n",
    "        l_positive += 1\n",
    "    elif tweet_polarity <0:\n",
    "        l_negative += 1\n",
    "    else:\n",
    "        l_neutral += 1\n",
    "    l_polarity += l_analysis.polarity"
   ]
  },
  {
   "cell_type": "code",
   "execution_count": 31,
   "id": "da4081e1",
   "metadata": {},
   "outputs": [
    {
     "name": "stdout",
     "output_type": "stream",
     "text": [
      "-0.2\n",
      "Amount of positive tweets: 0\n",
      "Amount of negative tweets: 2\n",
      "Amount of neutral tweets: 98\n"
     ]
    }
   ],
   "source": [
    "print(l_polarity)\n",
    "print(f'Amount of positive tweets: {l_positive}')\n",
    "print(f'Amount of negative tweets: {l_negative}')\n",
    "print(f'Amount of neutral tweets: {l_neutral}')"
   ]
  },
  {
   "cell_type": "code",
   "execution_count": 32,
   "id": "3e16f79f",
   "metadata": {},
   "outputs": [],
   "source": [
    "with open('lula', 'wb') as f:\n",
    "    pickle.dump(lula.data, f)"
   ]
  }
 ],
 "metadata": {
  "kernelspec": {
   "display_name": "Python 3.8.2 64-bit",
   "language": "python",
   "name": "python3"
  },
  "language_info": {
   "codemirror_mode": {
    "name": "ipython",
    "version": 3
   },
   "file_extension": ".py",
   "mimetype": "text/x-python",
   "name": "python",
   "nbconvert_exporter": "python",
   "pygments_lexer": "ipython3",
   "version": "3.8.2"
  },
  "vscode": {
   "interpreter": {
    "hash": "31f2aee4e71d21fbe5cf8b01ff0e069b9275f58929596ceb00d14d90e3e16cd6"
   }
  }
 },
 "nbformat": 4,
 "nbformat_minor": 5
}
