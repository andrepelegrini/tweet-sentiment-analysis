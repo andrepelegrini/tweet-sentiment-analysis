{
 "cells": [
  {
   "cell_type": "code",
   "execution_count": 3,
   "id": "93dd97c7",
   "metadata": {},
   "outputs": [],
   "source": [
    "api_key = 'lsdIHEK13bEZKcIxpxbTCWsHJ'\n",
    "api_key_secret = 'ETdwsyb6x1yGche0sC4LHWZfLAGe12oOkkYajEeGxq6s5b3uNy'\n",
    "bearer_token = 'AAAAAAAAAAAAAAAAAAAAAExwfgEAAAAAieokOjfgboUvhSTpnWa645%2FNv2Y%3DTC3QAVPVhoglLj8FcgVVowqaETt6NLeShi4pM7K0oQrSc963w9'\n",
    "access_token = '1244046374-MoKuOZpUBqviLnQj1k01PwHTeAOqBDNmhqhO0oT'\n",
    "access_token_key = 'fZ71bzc43oiWPSbrDosBPiiXPjhK2gWXQBoGrKOZMMgZQ'"
   ]
  },
  {
   "cell_type": "code",
   "execution_count": 4,
   "id": "508f0319",
   "metadata": {},
   "outputs": [],
   "source": [
    "import pandas as pd\n",
    "import tweepy"
   ]
  },
  {
   "cell_type": "code",
   "execution_count": 5,
   "id": "d14249f9",
   "metadata": {},
   "outputs": [],
   "source": [
    "client = tweepy.Client(bearer_token)"
   ]
  },
  {
   "cell_type": "code",
   "execution_count": 10,
   "id": "16ea5188",
   "metadata": {},
   "outputs": [
    {
     "name": "stderr",
     "output_type": "stream",
     "text": [
      "Unexpected parameter: lang\n"
     ]
    },
    {
     "ename": "BadRequest",
     "evalue": "400 Bad Request\nThe query parameter [lang] is not one of [query,start_time,end_time,since_id,until_id,max_results,next_token,pagination_token,sort_order,expansions,tweet.fields,media.fields,poll.fields,place.fields,user.fields]",
     "output_type": "error",
     "traceback": [
      "\u001b[0;31m---------------------------------------------------------------------------\u001b[0m",
      "\u001b[0;31mBadRequest\u001b[0m                                Traceback (most recent call last)",
      "\u001b[0;32m/var/folders/t4/50l321q176vdg6w5_jxdrgpc0000gn/T/ipykernel_5256/4148426405.py\u001b[0m in \u001b[0;36m<module>\u001b[0;34m\u001b[0m\n\u001b[0;32m----> 1\u001b[0;31m \u001b[0mresponse\u001b[0m \u001b[0;34m=\u001b[0m \u001b[0mclient\u001b[0m\u001b[0;34m.\u001b[0m\u001b[0msearch_recent_tweets\u001b[0m\u001b[0;34m(\u001b[0m\u001b[0;34m'Bolsonaro'\u001b[0m\u001b[0;34m,\u001b[0m \u001b[0mmax_results\u001b[0m\u001b[0;34m=\u001b[0m\u001b[0;36m10\u001b[0m\u001b[0;34m,\u001b[0m \u001b[0mlang\u001b[0m\u001b[0;34m=\u001b[0m\u001b[0;34m'pt'\u001b[0m\u001b[0;34m)\u001b[0m\u001b[0;34m\u001b[0m\u001b[0;34m\u001b[0m\u001b[0m\n\u001b[0m",
      "\u001b[0;32m~/Library/Python/3.8/lib/python/site-packages/tweepy/client.py\u001b[0m in \u001b[0;36msearch_recent_tweets\u001b[0;34m(self, query, user_auth, **params)\u001b[0m\n\u001b[1;32m   1246\u001b[0m         \"\"\"\n\u001b[1;32m   1247\u001b[0m         \u001b[0mparams\u001b[0m\u001b[0;34m[\u001b[0m\u001b[0;34m\"query\"\u001b[0m\u001b[0;34m]\u001b[0m \u001b[0;34m=\u001b[0m \u001b[0mquery\u001b[0m\u001b[0;34m\u001b[0m\u001b[0;34m\u001b[0m\u001b[0m\n\u001b[0;32m-> 1248\u001b[0;31m         return self._make_request(\n\u001b[0m\u001b[1;32m   1249\u001b[0m             \u001b[0;34m\"GET\"\u001b[0m\u001b[0;34m,\u001b[0m \u001b[0;34m\"/2/tweets/search/recent\"\u001b[0m\u001b[0;34m,\u001b[0m \u001b[0mparams\u001b[0m\u001b[0;34m=\u001b[0m\u001b[0mparams\u001b[0m\u001b[0;34m,\u001b[0m\u001b[0;34m\u001b[0m\u001b[0;34m\u001b[0m\u001b[0m\n\u001b[1;32m   1250\u001b[0m             endpoint_parameters=(\n",
      "\u001b[0;32m~/Library/Python/3.8/lib/python/site-packages/tweepy/client.py\u001b[0m in \u001b[0;36m_make_request\u001b[0;34m(self, method, route, params, endpoint_parameters, json, data_type, user_auth)\u001b[0m\n\u001b[1;32m    124\u001b[0m         \u001b[0mrequest_params\u001b[0m \u001b[0;34m=\u001b[0m \u001b[0mself\u001b[0m\u001b[0;34m.\u001b[0m\u001b[0m_process_params\u001b[0m\u001b[0;34m(\u001b[0m\u001b[0mparams\u001b[0m\u001b[0;34m,\u001b[0m \u001b[0mendpoint_parameters\u001b[0m\u001b[0;34m)\u001b[0m\u001b[0;34m\u001b[0m\u001b[0;34m\u001b[0m\u001b[0m\n\u001b[1;32m    125\u001b[0m \u001b[0;34m\u001b[0m\u001b[0m\n\u001b[0;32m--> 126\u001b[0;31m         response = self.request(method, route, params=request_params,\n\u001b[0m\u001b[1;32m    127\u001b[0m                                 json=json, user_auth=user_auth)\n\u001b[1;32m    128\u001b[0m \u001b[0;34m\u001b[0m\u001b[0m\n",
      "\u001b[0;32m~/Library/Python/3.8/lib/python/site-packages/tweepy/client.py\u001b[0m in \u001b[0;36mrequest\u001b[0;34m(self, method, route, params, json, user_auth)\u001b[0m\n\u001b[1;32m     93\u001b[0m \u001b[0;34m\u001b[0m\u001b[0m\n\u001b[1;32m     94\u001b[0m             \u001b[0;32mif\u001b[0m \u001b[0mresponse\u001b[0m\u001b[0;34m.\u001b[0m\u001b[0mstatus_code\u001b[0m \u001b[0;34m==\u001b[0m \u001b[0;36m400\u001b[0m\u001b[0;34m:\u001b[0m\u001b[0;34m\u001b[0m\u001b[0;34m\u001b[0m\u001b[0m\n\u001b[0;32m---> 95\u001b[0;31m                 \u001b[0;32mraise\u001b[0m \u001b[0mBadRequest\u001b[0m\u001b[0;34m(\u001b[0m\u001b[0mresponse\u001b[0m\u001b[0;34m)\u001b[0m\u001b[0;34m\u001b[0m\u001b[0;34m\u001b[0m\u001b[0m\n\u001b[0m\u001b[1;32m     96\u001b[0m             \u001b[0;32mif\u001b[0m \u001b[0mresponse\u001b[0m\u001b[0;34m.\u001b[0m\u001b[0mstatus_code\u001b[0m \u001b[0;34m==\u001b[0m \u001b[0;36m401\u001b[0m\u001b[0;34m:\u001b[0m\u001b[0;34m\u001b[0m\u001b[0;34m\u001b[0m\u001b[0m\n\u001b[1;32m     97\u001b[0m                 \u001b[0;32mraise\u001b[0m \u001b[0mUnauthorized\u001b[0m\u001b[0;34m(\u001b[0m\u001b[0mresponse\u001b[0m\u001b[0;34m)\u001b[0m\u001b[0;34m\u001b[0m\u001b[0;34m\u001b[0m\u001b[0m\n",
      "\u001b[0;31mBadRequest\u001b[0m: 400 Bad Request\nThe query parameter [lang] is not one of [query,start_time,end_time,since_id,until_id,max_results,next_token,pagination_token,sort_order,expansions,tweet.fields,media.fields,poll.fields,place.fields,user.fields]"
     ]
    }
   ],
   "source": [
    "response = client.search_recent_tweets('Bolsonaro', max_results=10)"
   ]
  },
  {
   "cell_type": "code",
   "execution_count": 7,
   "id": "5d472dbf",
   "metadata": {},
   "outputs": [
    {
     "data": {
      "text/plain": [
       "Response(data=[<Tweet id=1555322455744471045 text='RT @NewsBolsonaro_: GOVERNO: o Presidente Bolsonaro  sancionou nesta quinta-feira (4) o Projeto de Lei que estabelece o Piso Salarial dos E…'>, <Tweet id=1555322454171561984 text='https://t.co/cH8ajjoUf6'>, <Tweet id=1555322452959453184 text='RT @BrazilFight: ELISA BROM\\n\"Ninguém conhece um brasileiro torturado pelo “Ditador Sanguinário” do Bolsonaro, mas conhecemos mais de 200 mi…'>, <Tweet id=1555322449885073410 text='RT @IvanValente: PSOL vai pedir o impeachment de Augusto Aras. Basta da blindagem a Bolsonaro. Aras cometeu uma série de crimes nos sucessi…'>, <Tweet id=1555322448710701059 text='RT @JovemPanNews: #DiretoDeBrasíliaJP | Luís Roberto Barroso, do Supremo Tribunal Federal (STF), prorroga em 2 meses inquérito de Jair Bols…'>, <Tweet id=1555322443371352064 text='@ter0knor bati o olho nesse tweet e achei que era uma foto do bolsonaro'>, <Tweet id=1555322440250806272 text='RT @jairbolsonaro: -Live assuntos da semana (04/08/2022) / PR Jair Bolsonaro. https://t.co/V84wqdWPIZ'>, <Tweet id=1555322440003137538 text='Dá-lhe Presidente Bolsonaro, parabéns. https://t.co/IPTevM5Opf'>, <Tweet id=1555322438698893318 text='RT @samiabomfim: Augusto Aras utiliza de seu cargo para blindar o maior delinquente do nosso país, Jair Bolsonaro. São crimes incontestes e…'>, <Tweet id=1555322438640189440 text='RT @JailtonBSantos3: Até os petistas votam em Bolsonaro. 🤣🤣🤣 https://t.co/vLpDuKst8S'>], includes={}, errors=[], meta={'newest_id': '1555322455744471045', 'oldest_id': '1555322438640189440', 'result_count': 10, 'next_token': 'b26v89c19zqg8o3fpz5m80v2364m5uli0qgwig5towlfh'})"
      ]
     },
     "execution_count": 7,
     "metadata": {},
     "output_type": "execute_result"
    }
   ],
   "source": [
    "response"
   ]
  },
  {
   "cell_type": "code",
   "execution_count": 8,
   "id": "ae464dbc",
   "metadata": {},
   "outputs": [
    {
     "name": "stdout",
     "output_type": "stream",
     "text": [
      "RT @NewsBolsonaro_: GOVERNO: o Presidente Bolsonaro  sancionou nesta quinta-feira (4) o Projeto de Lei que estabelece o Piso Salarial dos E…\n",
      "https://t.co/cH8ajjoUf6\n",
      "RT @BrazilFight: ELISA BROM\n",
      "\"Ninguém conhece um brasileiro torturado pelo “Ditador Sanguinário” do Bolsonaro, mas conhecemos mais de 200 mi…\n",
      "RT @IvanValente: PSOL vai pedir o impeachment de Augusto Aras. Basta da blindagem a Bolsonaro. Aras cometeu uma série de crimes nos sucessi…\n",
      "RT @JovemPanNews: #DiretoDeBrasíliaJP | Luís Roberto Barroso, do Supremo Tribunal Federal (STF), prorroga em 2 meses inquérito de Jair Bols…\n",
      "@ter0knor bati o olho nesse tweet e achei que era uma foto do bolsonaro\n",
      "RT @jairbolsonaro: -Live assuntos da semana (04/08/2022) / PR Jair Bolsonaro. https://t.co/V84wqdWPIZ\n",
      "Dá-lhe Presidente Bolsonaro, parabéns. https://t.co/IPTevM5Opf\n",
      "RT @samiabomfim: Augusto Aras utiliza de seu cargo para blindar o maior delinquente do nosso país, Jair Bolsonaro. São crimes incontestes e…\n",
      "RT @JailtonBSantos3: Até os petistas votam em Bolsonaro. 🤣🤣🤣 https://t.co/vLpDuKst8S\n"
     ]
    }
   ],
   "source": [
    "tweets = response.data\n",
    "\n",
    "for tweet in tweets:\n",
    "    final_text = tweet.text.replace('RT', '')\n",
    "    if final_text.startswith(' @'):\n",
    "        position = final_text.index(':')\n",
    "        finalx_text = final_text[position+2:]\n",
    "    if final_text.startswith('@'):\n",
    "        position = final_text.index(' ')\n",
    "        final_text = final_text[position+2:]\n",
    "    print(final_text)"
   ]
  }
 ],
 "metadata": {
  "kernelspec": {
   "display_name": "Python 3.8.2 64-bit",
   "language": "python",
   "name": "python3"
  },
  "language_info": {
   "codemirror_mode": {
    "name": "ipython",
    "version": 3
   },
   "file_extension": ".py",
   "mimetype": "text/x-python",
   "name": "python",
   "nbconvert_exporter": "python",
   "pygments_lexer": "ipython3",
   "version": "3.8.2"
  },
  "vscode": {
   "interpreter": {
    "hash": "31f2aee4e71d21fbe5cf8b01ff0e069b9275f58929596ceb00d14d90e3e16cd6"
   }
  }
 },
 "nbformat": 4,
 "nbformat_minor": 5
}
